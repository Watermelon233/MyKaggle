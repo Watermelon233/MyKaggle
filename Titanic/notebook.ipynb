{
  "cells": [
    {
      "metadata": {
        "_uuid": "243f0bc170a5914e273795debe08137f8bd702c1",
        "_cell_guid": "b08819f5-01fc-640e-c570-d7c370f34014"
      },
      "cell_type": "markdown",
      "source": "This document is a thorough overview of my process for building a predictive model for Kaggle's Titanic competition. I will provide all my essential steps in this model as well as the reasoning behind each decision I made. This model achieves a score of 82.78%, which is in the top 3% of all submissions at the time of this writing. This is a great introductory modeling exercise due to the simple nature of the data, yet there is still a lot to be gleaned from following a process that ultimately yields a high score.\n\nYou can get my original code on my GitHub: https://github.com/zlatankr/Projects/tree/master/Titanic  \nYou get also read my write-up on my blog:  https://zlatankr.github.io/posts/2017/01/30/kaggle-titanic "
    },
    {
      "metadata": {
        "_uuid": "a2af9c7c5a8ccea62d68b590511befd77b172e2c",
        "_cell_guid": "381ac8a1-9f18-f1bd-67ed-f165373c8d0f"
      },
      "cell_type": "markdown",
      "source": "### The Problem"
    },
    {
      "metadata": {
        "_uuid": "080fabda7f8a085372128cb56bd9aeff87f9a29d",
        "_cell_guid": "76f20215-7870-47db-e2f0-c253a43aa8db"
      },
      "cell_type": "markdown",
      "source": "We are given information about a subset of the Titanic population and asked to build a predictive model that tells us whether or not a given passenger survived the shipwreck. We are given 10 basic explanatory variables, including passenger gender, age, and price of fare, among others. More details about the competition can be found on the Kaggle site, [here](https://www.kaggle.com/c/titanic). This is a classic binary classification problem, and we will be implementing a random forest classifer."
    },
    {
      "metadata": {
        "_uuid": "22c798d16d86067d11debff2457a361ecf4c2671",
        "_cell_guid": "0941247d-c2f1-a753-e4ff-583a88f2e7dc"
      },
      "cell_type": "markdown",
      "source": "### Exploratory Data Analysis"
    },
    {
      "metadata": {
        "_uuid": "ca6188d28f7b4e46598d5b41897e7504cc74763a",
        "_cell_guid": "e99bef63-bd89-42e9-6897-aba6337b2afb"
      },
      "cell_type": "markdown",
      "source": "The goal of this section is to gain an understanding of our data in order to inform what we do in the feature engineering section.  \n\nWe begin our exploratory data analysis by loading our standard modules."
    },
    {
      "metadata": {
        "_uuid": "a88a541145499cc042f0ad304f62de9a06948ecb",
        "collapsed": true,
        "_cell_guid": "9ae4a31b-44ce-72b7-375b-1376bcc81142",
        "trusted": true
      },
      "cell_type": "code",
      "source": "import os\nimport pandas as pd\nimport numpy as np\nimport seaborn as sns\nimport matplotlib.pyplot as plt\n%matplotlib inline",
      "execution_count": 1,
      "outputs": []
    },
    {
      "metadata": {
        "_uuid": "d6f81aee0d0f48f9954477cdf41a780a66a2ad05",
        "_cell_guid": "6e6e109b-469e-4210-18a9-59d56448fddc"
      },
      "cell_type": "markdown",
      "source": "We then load the data, which we have downloaded from the Kaggle website ([here](https://www.kaggle.com/c/titanic/data) is a link to the data if you need it)."
    },
    {
      "metadata": {
        "_uuid": "943b6b3bea0ddbfdc1a39bde0651d46f83c92cde",
        "collapsed": true,
        "_cell_guid": "e117a178-539a-d880-ab8c-5306d6d671f0",
        "trusted": true
      },
      "cell_type": "code",
      "source": "train = pd.read_csv(os.path.join('../input', 'train.csv'))\ntest = pd.read_csv(os.path.join('../input', 'test.csv'))",
      "execution_count": 2,
      "outputs": []
    },
    {
      "metadata": {
        "_uuid": "778ff7d7b23ff67be1cf1d43493f9bdb002c685e",
        "_cell_guid": "d67e8e9f-d809-7138-9ebc-c8c9fa1fb88c"
      },
      "cell_type": "markdown",
      "source": "First, let's take a look at the summary of all the data. Immediately, we note that `Age`, `Cabin`, and `Embarked` have nulls that we'll have to deal with. "
    },
    {
      "metadata": {
        "_uuid": "843906c0eed2925ca5c2066e351edb2e1dd8717d",
        "_cell_guid": "166004fb-0092-7fb9-f890-1b764a7f6da9",
        "trusted": true
      },
      "cell_type": "code",
      "source": "train.info()",
      "execution_count": 3,
      "outputs": [
        {
          "output_type": "stream",
          "text": "<class 'pandas.core.frame.DataFrame'>\nRangeIndex: 891 entries, 0 to 890\nData columns (total 12 columns):\nPassengerId    891 non-null int64\nSurvived       891 non-null int64\nPclass         891 non-null int64\nName           891 non-null object\nSex            891 non-null object\nAge            714 non-null float64\nSibSp          891 non-null int64\nParch          891 non-null int64\nTicket         891 non-null object\nFare           891 non-null float64\nCabin          204 non-null object\nEmbarked       889 non-null object\ndtypes: float64(2), int64(5), object(5)\nmemory usage: 83.6+ KB\n",
          "name": "stdout"
        }
      ]
    },
    {
      "metadata": {
        "_uuid": "811772fb6038a89596d1fc3508368edb8d9d529c",
        "_cell_guid": "928cc3b0-b08d-cd49-0c0a-993f51cc5070"
      },
      "cell_type": "markdown",
      "source": "It appears that we can drop the `PassengerId` column, since it is merely an index. Note, however, that some people have reportedly improved their score with the `PassengerId` column. However, my cursory attempt to do so did not yield positive results, and moreover I would like to mimic a real-life scenario, where an index of a dataset generally has no correlation with the target variable."
    },
    {
      "metadata": {
        "_uuid": "e2063c7bee359fdfa5acd385b298286e9aa96217",
        "_cell_guid": "2fee872c-6233-57b1-d6a8-d017ef15edbd",
        "trusted": true
      },
      "cell_type": "code",
      "source": "train.head()",
      "execution_count": 4,
      "outputs": [
        {
          "output_type": "execute_result",
          "execution_count": 4,
          "data": {
            "text/plain": "   PassengerId  Survived  Pclass  \\\n0            1         0       3   \n1            2         1       1   \n2            3         1       3   \n3            4         1       1   \n4            5         0       3   \n\n                                                Name     Sex   Age  SibSp  \\\n0                            Braund, Mr. Owen Harris    male  22.0      1   \n1  Cumings, Mrs. John Bradley (Florence Briggs Th...  female  38.0      1   \n2                             Heikkinen, Miss. Laina  female  26.0      0   \n3       Futrelle, Mrs. Jacques Heath (Lily May Peel)  female  35.0      1   \n4                           Allen, Mr. William Henry    male  35.0      0   \n\n   Parch            Ticket     Fare Cabin Embarked  \n0      0         A/5 21171   7.2500   NaN        S  \n1      0          PC 17599  71.2833   C85        C  \n2      0  STON/O2. 3101282   7.9250   NaN        S  \n3      0            113803  53.1000  C123        S  \n4      0            373450   8.0500   NaN        S  ",
            "text/html": "<div>\n<style scoped>\n    .dataframe tbody tr th:only-of-type {\n        vertical-align: middle;\n    }\n\n    .dataframe tbody tr th {\n        vertical-align: top;\n    }\n\n    .dataframe thead th {\n        text-align: right;\n    }\n</style>\n<table border=\"1\" class=\"dataframe\">\n  <thead>\n    <tr style=\"text-align: right;\">\n      <th></th>\n      <th>PassengerId</th>\n      <th>Survived</th>\n      <th>Pclass</th>\n      <th>Name</th>\n      <th>Sex</th>\n      <th>Age</th>\n      <th>SibSp</th>\n      <th>Parch</th>\n      <th>Ticket</th>\n      <th>Fare</th>\n      <th>Cabin</th>\n      <th>Embarked</th>\n    </tr>\n  </thead>\n  <tbody>\n    <tr>\n      <th>0</th>\n      <td>1</td>\n      <td>0</td>\n      <td>3</td>\n      <td>Braund, Mr. Owen Harris</td>\n      <td>male</td>\n      <td>22.0</td>\n      <td>1</td>\n      <td>0</td>\n      <td>A/5 21171</td>\n      <td>7.2500</td>\n      <td>NaN</td>\n      <td>S</td>\n    </tr>\n    <tr>\n      <th>1</th>\n      <td>2</td>\n      <td>1</td>\n      <td>1</td>\n      <td>Cumings, Mrs. John Bradley (Florence Briggs Th...</td>\n      <td>female</td>\n      <td>38.0</td>\n      <td>1</td>\n      <td>0</td>\n      <td>PC 17599</td>\n      <td>71.2833</td>\n      <td>C85</td>\n      <td>C</td>\n    </tr>\n    <tr>\n      <th>2</th>\n      <td>3</td>\n      <td>1</td>\n      <td>3</td>\n      <td>Heikkinen, Miss. Laina</td>\n      <td>female</td>\n      <td>26.0</td>\n      <td>0</td>\n      <td>0</td>\n      <td>STON/O2. 3101282</td>\n      <td>7.9250</td>\n      <td>NaN</td>\n      <td>S</td>\n    </tr>\n    <tr>\n      <th>3</th>\n      <td>4</td>\n      <td>1</td>\n      <td>1</td>\n      <td>Futrelle, Mrs. Jacques Heath (Lily May Peel)</td>\n      <td>female</td>\n      <td>35.0</td>\n      <td>1</td>\n      <td>0</td>\n      <td>113803</td>\n      <td>53.1000</td>\n      <td>C123</td>\n      <td>S</td>\n    </tr>\n    <tr>\n      <th>4</th>\n      <td>5</td>\n      <td>0</td>\n      <td>3</td>\n      <td>Allen, Mr. William Henry</td>\n      <td>male</td>\n      <td>35.0</td>\n      <td>0</td>\n      <td>0</td>\n      <td>373450</td>\n      <td>8.0500</td>\n      <td>NaN</td>\n      <td>S</td>\n    </tr>\n  </tbody>\n</table>\n</div>"
          },
          "metadata": {}
        }
      ]
    },
    {
      "metadata": {
        "_uuid": "d2b04c173d8c0b94192563bc70dcd43976a863f8",
        "_cell_guid": "60222a6a-c1e9-f4ea-1755-876ee316bcd8"
      },
      "cell_type": "markdown",
      "source": "## Survived\n\nSo we can see that 62% of the people in the training set died. This is slightly less than the estimated 67% that died in the actual shipwreck (1500/2224)."
    },
    {
      "metadata": {
        "_uuid": "380ff43276eb7a2af659349862c68cf9a982c998",
        "_cell_guid": "9dbce66e-2848-ebf6-c09a-780434aafff7",
        "trusted": true
      },
      "cell_type": "code",
      "source": "train['Survived'].value_counts(normalize=True)",
      "execution_count": 5,
      "outputs": [
        {
          "output_type": "execute_result",
          "execution_count": 5,
          "data": {
            "text/plain": "0    0.616162\n1    0.383838\nName: Survived, dtype: float64"
          },
          "metadata": {}
        }
      ]
    },
    {
      "metadata": {
        "_uuid": "69981a20b8ec00c7567a5b6b58f687bcd09833c8",
        "_cell_guid": "c88b648e-b372-ffd0-e723-7bfc9ee300d8",
        "trusted": true
      },
      "cell_type": "code",
      "source": "sns.countplot(train['Survived'])",
      "execution_count": 6,
      "outputs": [
        {
          "output_type": "execute_result",
          "execution_count": 6,
          "data": {
            "text/plain": "<matplotlib.axes._subplots.AxesSubplot at 0x7f03a4c84828>"
          },
          "metadata": {}
        },
        {
          "output_type": "display_data",
          "data": {
            "text/plain": "<matplotlib.figure.Figure at 0x7f040168d0f0>",
            "image/png": "[encoded data removed]"
          },
          "metadata": {}
        }
      ]
    },
    {
      "metadata": {
        "_uuid": "53bb647c12065ceb938a16a6fbb9909577c0efce",
        "_cell_guid": "1b2597e6-a286-b116-04dd-aae4f8d1b5f4"
      },
      "cell_type": "markdown",
      "source": "## Pclass\n\nClass played a critical role in survival, as the survival rate decreased drastically for the lowest class. This variable is both useful and clean, and I will be treating it as a categorical variable. "
    },
    {
      "metadata": {
        "_uuid": "3ad08dc6aa9ac51fa91e80000c7c0de3fb7f9fc3",
        "_cell_guid": "458388eb-4f35-0af2-239a-c9dd53e0d008",
        "trusted": true
      },
      "cell_type": "code",
      "source": "train['Survived'].groupby(train['Pclass']).mean()",
      "execution_count": 7,
      "outputs": [
        {
          "output_type": "execute_result",
          "execution_count": 7,
          "data": {
            "text/plain": "Pclass\n1    0.629630\n2    0.472826\n3    0.242363\nName: Survived, dtype: float64"
          },
          "metadata": {}
        }
      ]
    },
    {
      "metadata": {
        "_uuid": "d199ee0798547dbc5d064eb4a0612af2a1dd6864",
        "_cell_guid": "ac5b3dc3-902b-b282-1f90-5c1f7f832cb6",
        "trusted": true
      },
      "cell_type": "code",
      "source": "sns.countplot(train['Pclass'], hue=train['Survived'])",
      "execution_count": 8,
      "outputs": [
        {
          "output_type": "execute_result",
          "execution_count": 8,
          "data": {
            "text/plain": "<matplotlib.axes._subplots.AxesSubplot at 0x7f0400b86518>"
          },
          "metadata": {}
        },
        {
          "output_type": "display_data",
          "data": {
            "text/plain": "<matplotlib.figure.Figure at 0x7f0400ba86d8>",
            "image/png": "[encoded data removed]"
          },
          "metadata": {}
        }
      ]
    },
    {
      "metadata": {
        "_uuid": "f014b200026841e7e1a6a0f75e27b4065b3aa14b",
        "_cell_guid": "4fe97912-7dce-4884-2aa6-bf13206059ee"
      },
      "cell_type": "markdown",
      "source": "## Name  \n\nThe `Name` column as provided cannot be used in the model. However, we might be able to extract some meaningful information from it."
    },
    {
      "metadata": {
        "_uuid": "61b7961783ba103503713c291baa8056b52f9a31",
        "_cell_guid": "172c8639-bdfe-7cab-6ed8-f369537cf17a",
        "trusted": true
      },
      "cell_type": "code",
      "source": "train['Name'].head()",
      "execution_count": 9,
      "outputs": [
        {
          "output_type": "execute_result",
          "execution_count": 9,
          "data": {
            "text/plain": "0                              Braund, Mr. Owen Harris\n1    Cumings, Mrs. John Bradley (Florence Briggs Th...\n2                               Heikkinen, Miss. Laina\n3         Futrelle, Mrs. Jacques Heath (Lily May Peel)\n4                             Allen, Mr. William Henry\nName: Name, dtype: object"
          },
          "metadata": {}
        }
      ]
    },
    {
      "metadata": {
        "_uuid": "96c54b1688dffd8ede022c00c588301c62ac052a",
        "_cell_guid": "739d554d-6c07-deff-26f6-e0cf07b2d7e4"
      },
      "cell_type": "markdown",
      "source": "First, we can obtain useful information about the passenger's title. Looking at the distribution of the titles, it might be useful to group the smaller sized values into an 'other' group, although I ultimately choose not to do this."
    },
    {
      "metadata": {
        "_uuid": "8d35dfeabb060c27620f8307feb6834345e3fa50",
        "_cell_guid": "6e6a66e6-ea43-daaf-9ef3-74d2f94e78e4",
        "trusted": true
      },
      "cell_type": "code",
      "source": "train['Name_Title'] = train['Name'].apply(lambda x: x.split(',')[1]).apply(lambda x: x.split()[0])\ntrain['Name_Title'].value_counts()",
      "execution_count": 10,
      "outputs": [
        {
          "output_type": "execute_result",
          "execution_count": 10,
          "data": {
            "text/plain": "Mr.          517\nMiss.        182\nMrs.         125\nMaster.       40\nDr.            7\nRev.           6\nMajor.         2\nMlle.          2\nCol.           2\nSir.           1\nMs.            1\nDon.           1\nCapt.          1\nJonkheer.      1\nthe            1\nMme.           1\nLady.          1\nName: Name_Title, dtype: int64"
          },
          "metadata": {}
        }
      ]
    },
    {
      "metadata": {
        "_uuid": "7d901e8220e13c1dc0a2863b529657e921594cf8",
        "_cell_guid": "ab3b7cf1-661d-92f2-fdbf-7a1538121c27"
      },
      "cell_type": "markdown",
      "source": "I have relatively high hopes for this new variable we created, since the survival rate appears to be either significantly above or below the average survival rate, which should help our model."
    },
    {
      "metadata": {
        "_uuid": "916a6806cb58f36516416b3c14c061e6ea5e203e",
        "_cell_guid": "28a9443f-d57b-9603-b4b2-9918aa5b9de9",
        "trusted": true
      },
      "cell_type": "code",
      "source": "train['Survived'].groupby(train['Name_Title']).mean()",
      "execution_count": 11,
      "outputs": [
        {
          "output_type": "execute_result",
          "execution_count": 11,
          "data": {
            "text/plain": "Name_Title\nCapt.        0.000000\nCol.         0.500000\nDon.         0.000000\nDr.          0.428571\nJonkheer.    0.000000\nLady.        1.000000\nMajor.       0.500000\nMaster.      0.575000\nMiss.        0.697802\nMlle.        1.000000\nMme.         1.000000\nMr.          0.156673\nMrs.         0.792000\nMs.          1.000000\nRev.         0.000000\nSir.         1.000000\nthe          1.000000\nName: Survived, dtype: float64"
          },
          "metadata": {}
        }
      ]
    },
    {
      "metadata": {
        "_uuid": "3d39882b867f0c32288e075ac35a75cf2bd85470",
        "_cell_guid": "a83b6580-accf-aa46-6047-747351e7af74"
      },
      "cell_type": "markdown",
      "source": "Additionally, looking at the relationship between the length of a name and survival rate appears to indicate that there is indeed a clear relationship. What might this mean? Are people with longer names more important, and thus more likely to be prioritized in a shipwreck? "
    },
    {
      "metadata": {
        "_uuid": "b3ad6aa2e878765110d4d9e1e68fba1a721b10e9",
        "_cell_guid": "52890a72-b787-de0a-89ca-bc2b3801ecc7",
        "trusted": true
      },
      "cell_type": "code",
      "source": "train['Name_Len'] = train['Name'].apply(lambda x: len(x))\ntrain['Survived'].groupby(pd.qcut(train['Name_Len'],5)).mean()",
      "execution_count": 12,
      "outputs": [
        {
          "output_type": "execute_result",
          "execution_count": 12,
          "data": {
            "text/plain": "Name_Len\n(11.999, 19.0]    0.220588\n(19.0, 23.0]      0.301282\n(23.0, 27.0]      0.319797\n(27.0, 32.0]      0.442424\n(32.0, 82.0]      0.674556\nName: Survived, dtype: float64"
          },
          "metadata": {}
        }
      ]
    },
    {
      "metadata": {
        "_uuid": "062c4f30ca570a3bfcd172919c3d5cc00fe45ee7",
        "_cell_guid": "9ec0117b-cac2-e7e1-6e97-79b915a101b0",
        "trusted": true
      },
      "cell_type": "code",
      "source": "pd.qcut(train['Name_Len'],5).value_counts()",
      "execution_count": 13,
      "outputs": [
        {
          "output_type": "execute_result",
          "execution_count": 13,
          "data": {
            "text/plain": "(11.999, 19.0]    204\n(23.0, 27.0]      197\n(32.0, 82.0]      169\n(27.0, 32.0]      165\n(19.0, 23.0]      156\nName: Name_Len, dtype: int64"
          },
          "metadata": {}
        }
      ]
    },
    {
      "metadata": {
        "_uuid": "9597a45d6fd5f14d5da396f28b2b7c6ac66e012b",
        "_cell_guid": "4a672747-c56e-80a5-7033-c48eada12967"
      },
      "cell_type": "markdown",
      "source": "## Sex"
    },
    {
      "metadata": {
        "_uuid": "eab3c5a32c09226a2eea7744ec25b87648035517",
        "_cell_guid": "df2e2f58-17cd-2030-551f-6ab167d1734c"
      },
      "cell_type": "markdown",
      "source": "\"Women and children first,\" goes the famous saying. Thus, we should expect females to have a higher survival rate than males, and indeed that is the case. We expect this variable to be very useful in our model."
    },
    {
      "metadata": {
        "_uuid": "df9a6a2ebff6fd3cd5203be49fbaec98cddca626",
        "_cell_guid": "d8ceb9b1-64e3-a7fd-1358-27f5d76a9370",
        "trusted": true
      },
      "cell_type": "code",
      "source": "train['Sex'].value_counts(normalize=True)",
      "execution_count": 14,
      "outputs": [
        {
          "output_type": "execute_result",
          "execution_count": 14,
          "data": {
            "text/plain": "male      0.647587\nfemale    0.352413\nName: Sex, dtype: float64"
          },
          "metadata": {}
        }
      ]
    },
    {
      "metadata": {
        "_uuid": "aedaad9d13cf788921473162ce2f7cfdfd1e208c",
        "_cell_guid": "0689eaf1-de8b-9f99-9f5c-e79edb34144f",
        "trusted": true
      },
      "cell_type": "code",
      "source": "train['Survived'].groupby(train['Sex']).mean()",
      "execution_count": 15,
      "outputs": [
        {
          "output_type": "execute_result",
          "execution_count": 15,
          "data": {
            "text/plain": "Sex\nfemale    0.742038\nmale      0.188908\nName: Survived, dtype: float64"
          },
          "metadata": {}
        }
      ]
    },
    {
      "metadata": {
        "_uuid": "8c528cb70cfb9268c19e62435ea30d71814d3d7f",
        "_cell_guid": "cf819841-2844-f4b1-ea6f-28c6f264ff32"
      },
      "cell_type": "markdown",
      "source": "## Age\n\nThere are 177 nulls for `Age`, and they have a 10% lower survival rate than the non-nulls. Before imputing values for the nulls, we will include an `Age_null` flag just to make sure we can account for this characteristic of the data. "
    },
    {
      "metadata": {
        "_uuid": "5b317a06bcbc7644011c9231b5ac709a7e32fb5d",
        "_cell_guid": "020cb2b5-c7ba-acd1-4ef9-2892c4fa92cc",
        "trusted": true
      },
      "cell_type": "code",
      "source": "train['Survived'].groupby(train['Age'].isnull()).mean()",
      "execution_count": 16,
      "outputs": [
        {
          "output_type": "execute_result",
          "execution_count": 16,
          "data": {
            "text/plain": "Age\nFalse    0.406162\nTrue     0.293785\nName: Survived, dtype: float64"
          },
          "metadata": {}
        }
      ]
    },
    {
      "metadata": {
        "_uuid": "ca69e5b80a453444cea8936cebb6cba61a13d1e9",
        "_cell_guid": "f7b100d8-f88b-aa5c-f308-23796440aba7"
      },
      "cell_type": "markdown",
      "source": "Upon first glance, the relationship between age and survival appears to be a murky one at best. However, this doesn't mean that the variable will be a bad predictor; at deeper levels of a given decision tree, a more discriminant relationship might open up."
    },
    {
      "metadata": {
        "_uuid": "54c390e2631901be0bb6b9965a29b2c9e17e0a28",
        "_cell_guid": "93e8bec2-73ea-e452-0296-cb89143b7f59",
        "trusted": true
      },
      "cell_type": "code",
      "source": "train['Survived'].groupby(pd.qcut(train['Age'],5)).mean()",
      "execution_count": 17,
      "outputs": [
        {
          "output_type": "execute_result",
          "execution_count": 17,
          "data": {
            "text/plain": "Age\n(0.419, 19.0]    0.481707\n(19.0, 25.0]     0.328467\n(25.0, 31.8]     0.393701\n(31.8, 41.0]     0.437500\n(41.0, 80.0]     0.373239\nName: Survived, dtype: float64"
          },
          "metadata": {}
        }
      ]
    },
    {
      "metadata": {
        "_uuid": "c324bc0ffe3ac21c42f736a96c08a0a94920aa8b",
        "_cell_guid": "0422ff7a-5820-960c-a52a-3e8c21436d5c",
        "trusted": true
      },
      "cell_type": "code",
      "source": "pd.qcut(train['Age'],5).value_counts()",
      "execution_count": 18,
      "outputs": [
        {
          "output_type": "execute_result",
          "execution_count": 18,
          "data": {
            "text/plain": "(0.419, 19.0]    164\n(31.8, 41.0]     144\n(41.0, 80.0]     142\n(19.0, 25.0]     137\n(25.0, 31.8]     127\nName: Age, dtype: int64"
          },
          "metadata": {}
        }
      ]
    },
    {
      "metadata": {
        "_uuid": "5ae5c0d23b3b8aeb63c2759effa2b33703221840",
        "_cell_guid": "c00eb333-4e5b-579f-5245-dae66e015a52"
      },
      "cell_type": "markdown",
      "source": "## SibSp  \n\nUpon first glance, I'm not too convinced of the importance of this variable. The distribution and survival rate between the different categories does not give me much hope."
    },
    {
      "metadata": {
        "_uuid": "b11eccc2d8079f3e20de90ef4c64a0014e0036db",
        "_cell_guid": "d508ae21-884e-d851-ea53-3a575fe163f2",
        "trusted": true
      },
      "cell_type": "code",
      "source": "train['Survived'].groupby(train['SibSp']).mean()",
      "execution_count": 19,
      "outputs": [
        {
          "output_type": "execute_result",
          "execution_count": 19,
          "data": {
            "text/plain": "SibSp\n0    0.345395\n1    0.535885\n2    0.464286\n3    0.250000\n4    0.166667\n5    0.000000\n8    0.000000\nName: Survived, dtype: float64"
          },
          "metadata": {}
        }
      ]
    },
    {
      "metadata": {
        "_uuid": "cdab4ea4c191e8d6093e6aa2a782480a23a50330",
        "_cell_guid": "ce8f0963-0be8-3a7f-be5e-91f30bfb6594",
        "trusted": true
      },
      "cell_type": "code",
      "source": "train['SibSp'].value_counts()",
      "execution_count": 20,
      "outputs": [
        {
          "output_type": "execute_result",
          "execution_count": 20,
          "data": {
            "text/plain": "0    608\n1    209\n2     28\n4     18\n3     16\n8      7\n5      5\nName: SibSp, dtype: int64"
          },
          "metadata": {}
        }
      ]
    },
    {
      "metadata": {
        "_uuid": "cca3d3ccd4bd3b5363af3423ed794d9408884ca7",
        "_cell_guid": "f9f32721-ec87-eb57-0657-af569e03f6ee"
      },
      "cell_type": "markdown",
      "source": "## Parch\n\nSame conclusions as `Sibsp`: passengers with zero parents or children had a lower likelihood of survival than otherwise, but that survival rate was only slightly less than the overall population survival rate. "
    },
    {
      "metadata": {
        "_uuid": "a9631c3612f70b7a1395222b5b4766347a42da8b",
        "_cell_guid": "1aa7aded-23e8-0f22-642f-6f740c511203",
        "trusted": true
      },
      "cell_type": "code",
      "source": "train['Survived'].groupby(train['Parch']).mean()",
      "execution_count": 21,
      "outputs": [
        {
          "output_type": "execute_result",
          "execution_count": 21,
          "data": {
            "text/plain": "Parch\n0    0.343658\n1    0.550847\n2    0.500000\n3    0.600000\n4    0.000000\n5    0.200000\n6    0.000000\nName: Survived, dtype: float64"
          },
          "metadata": {}
        }
      ]
    },
    {
      "metadata": {
        "_uuid": "bf3c6519cf208ae2854a525c07de70ffc1d94618",
        "_cell_guid": "6ab6c4a7-4bb3-afb5-38f1-8b990d518201",
        "trusted": true
      },
      "cell_type": "code",
      "source": "train['Parch'].value_counts()",
      "execution_count": 22,
      "outputs": [
        {
          "output_type": "execute_result",
          "execution_count": 22,
          "data": {
            "text/plain": "0    678\n1    118\n2     80\n5      5\n3      5\n4      4\n6      1\nName: Parch, dtype: int64"
          },
          "metadata": {}
        }
      ]
    },
    {
      "metadata": {
        "_uuid": "1ad4938217b69ff9b120b8f7311395b3703d2dd3",
        "_cell_guid": "42d3026d-960b-b6f8-1d14-9216360213a9"
      },
      "cell_type": "markdown",
      "source": "When we have two seemingly weak predictors, one thing we can do is combine them to get a stronger predictor. In the case of `SibSp` and `Parch`, we can combine the two variables to get a 'family size' metric, which might (and in fact does) prove to be a better predictor than the two original variables. "
    },
    {
      "metadata": {
        "_uuid": "fd9f37580e150e0c530378cf537eb7b82ee84fb0",
        "_cell_guid": "c713d10e-7b0c-069b-dd6c-81a78a8e4494"
      },
      "cell_type": "markdown",
      "source": "## Ticket  \n\nThe `Ticket` column seems to contain unique alphanumeric values, and is thus not very useful on its own. However, we might be able to extract come predictive power from it. "
    },
    {
      "metadata": {
        "_uuid": "76f9788dddf7050ba950f85adac97b8a29b7bc91",
        "_cell_guid": "cff6f21f-eac4-5a31-69a8-763f2bed82f8",
        "trusted": true
      },
      "cell_type": "code",
      "source": "train['Ticket'].head(n=10)",
      "execution_count": 23,
      "outputs": [
        {
          "output_type": "execute_result",
          "execution_count": 23,
          "data": {
            "text/plain": "0           A/5 21171\n1            PC 17599\n2    STON/O2. 3101282\n3              113803\n4              373450\n5              330877\n6               17463\n7              349909\n8              347742\n9              237736\nName: Ticket, dtype: object"
          },
          "metadata": {}
        }
      ]
    },
    {
      "metadata": {
        "_uuid": "098901dcfbf51ef0e6439c5610cdcf92244bd6b7",
        "_cell_guid": "b5bae856-93d4-ad8c-8a28-162ef1439cb3"
      },
      "cell_type": "markdown",
      "source": "One piece of potentially useful informatin is the number of characters in the `Ticket` column. This could be a reflection of the 'type' of ticket a given passenger had, which could somehow indicate their chances of survival. One theory (which may in fact be verifiable) is that some characteristic of the ticket could indicate the location of the passenger's room, which might be a crucial factor in their escape route, and consequently their survival."
    },
    {
      "metadata": {
        "_uuid": "0f3261ee1d1c15accd49a683a02a1e3f15946125",
        "collapsed": true,
        "_cell_guid": "7db4391f-ce6e-772b-3198-65e27213e592",
        "trusted": true
      },
      "cell_type": "code",
      "source": "train['Ticket_Len'] = train['Ticket'].apply(lambda x: len(x))",
      "execution_count": 24,
      "outputs": []
    },
    {
      "metadata": {
        "_uuid": "f3e69945755eda820bdc4e7bdc3ef55a8ab6cfbf",
        "_cell_guid": "12a703ce-f20e-5ca1-6944-cc5acac43e8b",
        "trusted": true
      },
      "cell_type": "code",
      "source": "train['Ticket_Len'].value_counts()",
      "execution_count": 25,
      "outputs": [
        {
          "output_type": "execute_result",
          "execution_count": 25,
          "data": {
            "text/plain": "6     419\n5     131\n4     101\n8      76\n10     41\n7      27\n9      26\n17     14\n16     11\n13     10\n12     10\n15      9\n11      8\n18      6\n3       2\nName: Ticket_Len, dtype: int64"
          },
          "metadata": {}
        }
      ]
    },
    {
      "metadata": {
        "_uuid": "fce3c79c008159d3c349da8ba81799e449599dbe",
        "_cell_guid": "b45bcff9-5d4f-9ed4-c1c9-269f0babdf81"
      },
      "cell_type": "markdown",
      "source": "Another piece of information is the first letter of each ticket, which, again, might be indicative of a certain attribute of the ticketholders or their rooms."
    },
    {
      "metadata": {
        "_uuid": "660b21f6a4340a47079482275790b6aa901c1cbc",
        "collapsed": true,
        "_cell_guid": "c74ea040-ca66-1e8c-de46-bb96b9d2d61d",
        "trusted": true
      },
      "cell_type": "code",
      "source": "train['Ticket_Lett'] = train['Ticket'].apply(lambda x: str(x)[0])",
      "execution_count": 26,
      "outputs": []
    },
    {
      "metadata": {
        "_uuid": "4b0dff9d6258d8122c5d0bec697d4c4ab0148ae3",
        "_cell_guid": "9e370470-2049-19e5-6c86-003e4f8fd48f",
        "trusted": true
      },
      "cell_type": "code",
      "source": "train['Ticket_Lett'].value_counts()",
      "execution_count": 27,
      "outputs": [
        {
          "output_type": "execute_result",
          "execution_count": 27,
          "data": {
            "text/plain": "3    301\n2    183\n1    146\nS     65\nP     65\nC     47\nA     29\nW     13\n4     10\n7      9\nF      7\n6      6\nL      4\n5      3\n8      2\n9      1\nName: Ticket_Lett, dtype: int64"
          },
          "metadata": {}
        }
      ]
    },
    {
      "metadata": {
        "_uuid": "f83cb903f6c387e84af20654eb729ef4f4e51fd2",
        "_cell_guid": "e5881afe-f799-7dc3-9b35-07392186b3c1",
        "trusted": true
      },
      "cell_type": "code",
      "source": "train.groupby(['Ticket_Lett'])['Survived'].mean()",
      "execution_count": 28,
      "outputs": [
        {
          "output_type": "execute_result",
          "execution_count": 28,
          "data": {
            "text/plain": "Ticket_Lett\n1    0.630137\n2    0.464481\n3    0.239203\n4    0.200000\n5    0.000000\n6    0.166667\n7    0.111111\n8    0.000000\n9    1.000000\nA    0.068966\nC    0.340426\nF    0.571429\nL    0.250000\nP    0.646154\nS    0.323077\nW    0.153846\nName: Survived, dtype: float64"
          },
          "metadata": {}
        }
      ]
    },
    {
      "metadata": {
        "_uuid": "c7ae632613dc57be413efc48d81c73988fc184e7",
        "_cell_guid": "ce75600a-6266-5e8c-ec80-da481b82529f"
      },
      "cell_type": "markdown",
      "source": "## Fare\n\nThere is a clear relationship between `Fare` and `Survived`, and I'm guessing that this relationship is similar to that of `Class` and `Survived`."
    },
    {
      "metadata": {
        "_uuid": "8fc3bb2370d7627dd5ce092a2394ccb539a500d9",
        "_cell_guid": "e058171b-981e-6d8d-2d2a-68db6927cdde",
        "trusted": true
      },
      "cell_type": "code",
      "source": "pd.qcut(train['Fare'], 3).value_counts()",
      "execution_count": 29,
      "outputs": [
        {
          "output_type": "execute_result",
          "execution_count": 29,
          "data": {
            "text/plain": "(-0.001, 8.662]    308\n(26.0, 512.329]    295\n(8.662, 26.0]      288\nName: Fare, dtype: int64"
          },
          "metadata": {}
        }
      ]
    },
    {
      "metadata": {
        "_uuid": "a8d95f8387c5443b3a03236e9463f2dbe7d10bf7",
        "_cell_guid": "00ea0b0f-717d-7a9a-160d-400f6d91e958",
        "trusted": true
      },
      "cell_type": "code",
      "source": "train['Survived'].groupby(pd.qcut(train['Fare'], 3)).mean()",
      "execution_count": 30,
      "outputs": [
        {
          "output_type": "execute_result",
          "execution_count": 30,
          "data": {
            "text/plain": "Fare\n(-0.001, 8.662]    0.198052\n(8.662, 26.0]      0.402778\n(26.0, 512.329]    0.559322\nName: Survived, dtype: float64"
          },
          "metadata": {}
        }
      ]
    },
    {
      "metadata": {
        "_uuid": "e877c6b80694fceb089b143e9156dd5aa92d7b5d",
        "_cell_guid": "7398ba56-3205-a985-33e9-cf4eab5a437a"
      },
      "cell_type": "markdown",
      "source": "Looking at the relationship between `Class` and `Fare`, we do indeed see a clear relationship. "
    },
    {
      "metadata": {
        "_uuid": "32856c0be522129b55a69bb93dcabcf71b60e0bd",
        "_cell_guid": "5da95a24-a108-fc18-100e-642d64cf4d60",
        "trusted": true
      },
      "cell_type": "code",
      "source": "pd.crosstab(pd.qcut(train['Fare'], 5), columns=train['Pclass'])",
      "execution_count": 31,
      "outputs": [
        {
          "output_type": "execute_result",
          "execution_count": 31,
          "data": {
            "text/plain": "Pclass               1   2    3\nFare                           \n(-0.001, 7.854]      6   6  167\n(7.854, 10.5]        0  24  160\n(10.5, 21.679]       0  80   92\n(21.679, 39.688]    64  64   52\n(39.688, 512.329]  146  10   20",
            "text/html": "<div>\n<style scoped>\n    .dataframe tbody tr th:only-of-type {\n        vertical-align: middle;\n    }\n\n    .dataframe tbody tr th {\n        vertical-align: top;\n    }\n\n    .dataframe thead th {\n        text-align: right;\n    }\n</style>\n<table border=\"1\" class=\"dataframe\">\n  <thead>\n    <tr style=\"text-align: right;\">\n      <th>Pclass</th>\n      <th>1</th>\n      <th>2</th>\n      <th>3</th>\n    </tr>\n    <tr>\n      <th>Fare</th>\n      <th></th>\n      <th></th>\n      <th></th>\n    </tr>\n  </thead>\n  <tbody>\n    <tr>\n      <th>(-0.001, 7.854]</th>\n      <td>6</td>\n      <td>6</td>\n      <td>167</td>\n    </tr>\n    <tr>\n      <th>(7.854, 10.5]</th>\n      <td>0</td>\n      <td>24</td>\n      <td>160</td>\n    </tr>\n    <tr>\n      <th>(10.5, 21.679]</th>\n      <td>0</td>\n      <td>80</td>\n      <td>92</td>\n    </tr>\n    <tr>\n      <th>(21.679, 39.688]</th>\n      <td>64</td>\n      <td>64</td>\n      <td>52</td>\n    </tr>\n    <tr>\n      <th>(39.688, 512.329]</th>\n      <td>146</td>\n      <td>10</td>\n      <td>20</td>\n    </tr>\n  </tbody>\n</table>\n</div>"
          },
          "metadata": {}
        }
      ]
    },
    {
      "metadata": {
        "_uuid": "ca2915fbdf09fac921bfcea7e31c3a0fed07e4f9",
        "_cell_guid": "d74c58ef-5514-2ef0-ec3e-bf596a6303ad"
      },
      "cell_type": "markdown",
      "source": "## Cabin\n\nThis column has the most nulls (almost 700), but we can still extract information from it, like the first letter of each cabin, or the cabin number. The usefulness of this column might be similar to that of the `Ticket` variable."
    },
    {
      "metadata": {
        "_uuid": "2f064934671bc7410f6b74fcbd3cb3fdf131f751",
        "_cell_guid": "6f4c5e5a-1c2d-d329-e53e-5d51184c7131"
      },
      "cell_type": "markdown",
      "source": "#### Cabin Letter"
    },
    {
      "metadata": {
        "_uuid": "0738fea7ad4be356f7d590d85e1db551aec550ce",
        "_cell_guid": "e4f0ae6a-70cd-a00e-9ec6-d2c403712d66"
      },
      "cell_type": "markdown",
      "source": "We can see that most of the cabin letters are associated with a high survival rate, so this might very well be a useful variable. Because there aren't that many unique values, we won't do any grouping here, even if some of the values have a small count."
    },
    {
      "metadata": {
        "_uuid": "4c12272bd8a028f1ba699aa968a4f30a626a38f7",
        "collapsed": true,
        "_cell_guid": "bfea2088-94b1-5114-7db7-c2d5959d692e",
        "trusted": true
      },
      "cell_type": "code",
      "source": "train['Cabin_Letter'] = train['Cabin'].apply(lambda x: str(x)[0])",
      "execution_count": 32,
      "outputs": []
    },
    {
      "metadata": {
        "_uuid": "af5c89a13d1dd249a52974c5d199873f60736a99",
        "_cell_guid": "8b17c8f7-c698-6b30-5bf9-c7ee346da0f0",
        "trusted": true
      },
      "cell_type": "code",
      "source": "train['Cabin_Letter'].value_counts()",
      "execution_count": 33,
      "outputs": [
        {
          "output_type": "execute_result",
          "execution_count": 33,
          "data": {
            "text/plain": "n    687\nC     59\nB     47\nD     33\nE     32\nA     15\nF     13\nG      4\nT      1\nName: Cabin_Letter, dtype: int64"
          },
          "metadata": {}
        }
      ]
    },
    {
      "metadata": {
        "_uuid": "7aec24c1f89badf399f2628e0b35cb7ca281b75a",
        "_cell_guid": "5111cc8b-8bc1-e38a-c97b-d2284c317c32",
        "trusted": true
      },
      "cell_type": "code",
      "source": "train['Survived'].groupby(train['Cabin_Letter']).mean()",
      "execution_count": 34,
      "outputs": [
        {
          "output_type": "execute_result",
          "execution_count": 34,
          "data": {
            "text/plain": "Cabin_Letter\nA    0.466667\nB    0.744681\nC    0.593220\nD    0.757576\nE    0.750000\nF    0.615385\nG    0.500000\nT    0.000000\nn    0.299854\nName: Survived, dtype: float64"
          },
          "metadata": {}
        }
      ]
    },
    {
      "metadata": {
        "_uuid": "0c3bd8722e03df25a4b28113911ccb6a0d532d59",
        "_cell_guid": "c9ee4b12-2cf9-c65e-1577-a220a63b7c6f"
      },
      "cell_type": "markdown",
      "source": "#### Cabin Number\n\nUpon first glance, this appears to be useless. Not only do we have ~700 nulls which will be difficult to impute, but the correlation with `Survived` is almost zero. However, the cabin numbers as a whole do seem to have a high surival rate compared to the population average, so we might want to keep this just in case for now."
    },
    {
      "metadata": {
        "_uuid": "fdc6839695a143b10fe25bddc2c5f93468833e2d",
        "collapsed": true,
        "_cell_guid": "af8a788d-bff7-368f-d99a-f437813f597c",
        "trusted": true
      },
      "cell_type": "code",
      "source": "train['Cabin_num'] = train['Cabin'].apply(lambda x: str(x).split(' ')[-1][1:])\ntrain['Cabin_num'].replace('an', np.NaN, inplace = True)\ntrain['Cabin_num'] = train['Cabin_num'].apply(lambda x: int(x) if not pd.isnull(x) and x != '' else np.NaN)",
      "execution_count": 35,
      "outputs": []
    },
    {
      "metadata": {
        "_uuid": "42f2c1d1372884e4a20bb6358075c7e21bd193af",
        "_cell_guid": "9b171c93-e78f-7f5a-553b-2b59f7ee5b33",
        "trusted": true
      },
      "cell_type": "code",
      "source": "pd.qcut(train['Cabin_num'],3).value_counts()",
      "execution_count": 36,
      "outputs": [
        {
          "output_type": "execute_result",
          "execution_count": 36,
          "data": {
            "text/plain": "(65.667, 148.0]     67\n(1.999, 28.667]     67\n(28.667, 65.667]    66\nName: Cabin_num, dtype: int64"
          },
          "metadata": {}
        }
      ]
    },
    {
      "metadata": {
        "_uuid": "a5cecfe756e2615d4aa8dd1ee823515c3fb352e1",
        "_cell_guid": "c8127630-c7b8-83ca-87be-06be190bcc3b",
        "trusted": true
      },
      "cell_type": "code",
      "source": "train['Survived'].groupby(pd.qcut(train['Cabin_num'], 3)).mean()",
      "execution_count": 37,
      "outputs": [
        {
          "output_type": "execute_result",
          "execution_count": 37,
          "data": {
            "text/plain": "Cabin_num\n(1.999, 28.667]     0.716418\n(28.667, 65.667]    0.651515\n(65.667, 148.0]     0.641791\nName: Survived, dtype: float64"
          },
          "metadata": {}
        }
      ]
    },
    {
      "metadata": {
        "_uuid": "eb4252558c99bddda422a9cd9bb1b94ba7506de4",
        "_cell_guid": "3e756b5c-7585-ee05-c6d8-1648b2c1e236",
        "trusted": true
      },
      "cell_type": "code",
      "source": "train['Survived'].corr(train['Cabin_num'])",
      "execution_count": 38,
      "outputs": [
        {
          "output_type": "execute_result",
          "execution_count": 38,
          "data": {
            "text/plain": "-0.06384595922789371"
          },
          "metadata": {}
        }
      ]
    },
    {
      "metadata": {
        "_uuid": "0837d3677420267e44cebedb7b7b21c3e751d39a",
        "_cell_guid": "2b789c07-4636-d70d-90f2-611dfe5b88ee"
      },
      "cell_type": "markdown",
      "source": "## Embarked\n\nLooks like the Cherbourg people had a 20% higher survival rate than the other embarking locations. This is very likely due to the high presence of upper-class passengers from that location."
    },
    {
      "metadata": {
        "_uuid": "42001e87aa80df2c97b5623aa20090900171bbff",
        "_cell_guid": "b1c95a03-af39-40c6-9957-9eef707a44df",
        "trusted": true
      },
      "cell_type": "code",
      "source": "train['Embarked'].value_counts()",
      "execution_count": 39,
      "outputs": [
        {
          "output_type": "execute_result",
          "execution_count": 39,
          "data": {
            "text/plain": "S    644\nC    168\nQ     77\nName: Embarked, dtype: int64"
          },
          "metadata": {}
        }
      ]
    },
    {
      "metadata": {
        "_uuid": "364f1d71d66ac70a1596c1ec6a3ebe9ecf3a0695",
        "_cell_guid": "aa64e145-e914-2e5d-1768-723e779022d3",
        "trusted": true
      },
      "cell_type": "code",
      "source": "train['Embarked'].value_counts(normalize=True)",
      "execution_count": 40,
      "outputs": [
        {
          "output_type": "execute_result",
          "execution_count": 40,
          "data": {
            "text/plain": "S    0.724409\nC    0.188976\nQ    0.086614\nName: Embarked, dtype: float64"
          },
          "metadata": {}
        }
      ]
    },
    {
      "metadata": {
        "_uuid": "3c3aff615ec250228d6df0ccceb2729035975a0c",
        "_cell_guid": "96505069-43d7-eaeb-d1ac-3433411fa415",
        "trusted": true
      },
      "cell_type": "code",
      "source": "train['Survived'].groupby(train['Embarked']).mean()",
      "execution_count": 41,
      "outputs": [
        {
          "output_type": "execute_result",
          "execution_count": 41,
          "data": {
            "text/plain": "Embarked\nC    0.553571\nQ    0.389610\nS    0.336957\nName: Survived, dtype: float64"
          },
          "metadata": {}
        }
      ]
    },
    {
      "metadata": {
        "_uuid": "c4f06698a02cf20c7e2662c41a4fe4957b3f60b7",
        "_cell_guid": "2e11ef71-9cba-95f2-c6f7-0051a6a6bdcd",
        "trusted": true
      },
      "cell_type": "code",
      "source": "sns.countplot(train['Embarked'], hue=train['Pclass'])",
      "execution_count": 42,
      "outputs": [
        {
          "output_type": "execute_result",
          "execution_count": 42,
          "data": {
            "text/plain": "<matplotlib.axes._subplots.AxesSubplot at 0x7f0400a548d0>"
          },
          "metadata": {}
        },
        {
          "output_type": "display_data",
          "data": {
            "text/plain": "<matplotlib.figure.Figure at 0x7f0400bc5588>",
            "image/png": "[encoded data removed]"
          },
          "metadata": {}
        }
      ]
    },
    {
      "metadata": {
        "_uuid": "82418b824493a89227b723133e3784f4c6bf205a",
        "_cell_guid": "792b218a-b4c0-7a4a-2442-f375deee3581"
      },
      "cell_type": "markdown",
      "source": "### Feature Engineering"
    },
    {
      "metadata": {
        "_uuid": "7e383b920cf735a133964c7667241897b5971b35",
        "_cell_guid": "a69433b7-96b7-589b-4481-180206c1e5b2"
      },
      "cell_type": "markdown",
      "source": "Having done our cursory exploration of the variables, we now have a pretty good idea of how we want to transform our variables in preparation for our final dataset. We will perform our feature engineering through a series of helper functions that each serve a specific purpose. "
    },
    {
      "metadata": {
        "_uuid": "7a6e7e020382a4423a33ee83d4a23eaabce0e158",
        "_cell_guid": "906a9892-fe2a-ecd9-304d-ff4e63876867"
      },
      "cell_type": "markdown",
      "source": "This first function creates two separate columns: a numeric column indicating the length of a passenger's `Name` field, and a categorical column that extracts the passenger's title."
    },
    {
      "metadata": {
        "_uuid": "6f914608fb5f908d1196953734eccde0e22f8854",
        "_cell_guid": "ada87e93-db17-8a39-0025-5aea95b8e684",
        "trusted": true
      },
      "cell_type": "code",
      "source": "def names(train, test):\n    for i in [train, test]:\n        i['Name_Len'] = i['Name'].apply(lambda x: len(x))\n        i['Name_Title'] = i['Name'].apply(lambda x: x.split(',')[1]).apply(lambda x: x.split()[0])\n        print(type(i['Name']))\n        del i['Name']\n    return train, test",
      "execution_count": 59,
      "outputs": []
    },
    {
      "metadata": {
        "_uuid": "62e13c879f277af01ed472f674b14d48603c079f",
        "_cell_guid": "1a9f9d8b-eded-86e5-dd3f-a88e347b5135"
      },
      "cell_type": "markdown",
      "source": "Next, we impute the null values of the `Age` column by filling in the mean value of the passenger's corresponding title and class. This more granular approach to imputation should be more accurate than merely taking the mean age of the population."
    },
    {
      "metadata": {
        "_uuid": "594288051f1de5e21ec325c74df3c5e8d33db86c",
        "collapsed": true,
        "_cell_guid": "8a265d21-ca70-1699-21fd-c098689026fc",
        "trusted": true
      },
      "cell_type": "code",
      "source": "def age_impute(train, test):\n    for i in [train, test]:\n        i['Age_Null_Flag'] = i['Age'].apply(lambda x: 1 if pd.isnull(x) else 0)\n        data = train.groupby(['Name_Title', 'Pclass'])['Age']\n        i['Age'] = data.transform(lambda x: x.fillna(x.mean()))\n    return train, test",
      "execution_count": 44,
      "outputs": []
    },
    {
      "metadata": {
        "_uuid": "00437d4631f0bbc711c5920d5824cd5f5ced6794",
        "_cell_guid": "c8285f4f-4f76-6188-c8df-bef76efb3800"
      },
      "cell_type": "markdown",
      "source": "We combine the `SibSp` and `Parch` columns into a new variable that indicates family size, and group the family size variable into three categories."
    },
    {
      "metadata": {
        "_uuid": "785d71b648fc4e296316e3cf4f895c7c8d329204",
        "collapsed": true,
        "_cell_guid": "3f1b5572-f9e6-0bc5-4666-ba160eb4209e",
        "trusted": true
      },
      "cell_type": "code",
      "source": "def fam_size(train, test):\n    for i in [train, test]:\n        i['Fam_Size'] = np.where((i['SibSp']+i['Parch']) == 0 , 'Solo',\n                           np.where((i['SibSp']+i['Parch']) <= 3,'Nuclear', 'Big'))\n        del i['SibSp']\n        del i['Parch']\n    return train, test",
      "execution_count": 45,
      "outputs": []
    },
    {
      "metadata": {
        "_uuid": "a58f65851ae38f7ea9aba24ad1227e1d320996e2",
        "_cell_guid": "14acf849-b512-9eb4-37e3-427fc887b7c2"
      },
      "cell_type": "markdown",
      "source": "The `Ticket` column is used to create two new columns: `Ticket_Lett`, which indicates the first letter of each ticket (with the smaller-n values being grouped based on survival rate); and `Ticket_Len`, which indicates the length of the `Ticket` field. "
    },
    {
      "metadata": {
        "_uuid": "b9f4c84daf722e857fe5eaf7542b15780d716f69",
        "collapsed": true,
        "_cell_guid": "cbba884d-50f4-1e60-05bf-ed5dfb334fb6",
        "trusted": true
      },
      "cell_type": "code",
      "source": "def ticket_grouped(train, test):\n    for i in [train, test]:\n        i['Ticket_Lett'] = i['Ticket'].apply(lambda x: str(x)[0])\n        i['Ticket_Lett'] = i['Ticket_Lett'].apply(lambda x: str(x))\n        i['Ticket_Lett'] = np.where((i['Ticket_Lett']).isin(['1', '2', '3', 'S', 'P', 'C', 'A']), i['Ticket_Lett'],\n                                   np.where((i['Ticket_Lett']).isin(['W', '4', '7', '6', 'L', '5', '8']),\n                                            'Low_ticket', 'Other_ticket'))\n        i['Ticket_Len'] = i['Ticket'].apply(lambda x: len(x))\n        del i['Ticket']\n    return train, test",
      "execution_count": 46,
      "outputs": []
    },
    {
      "metadata": {
        "_uuid": "77f6742dfe429d598dc2bd64d01fcf1abbdaaf4d",
        "_cell_guid": "a240a933-c6ed-63c4-7e00-1b9f4eba5c89"
      },
      "cell_type": "markdown",
      "source": "The following two functions extract the first letter of the `Cabin` column and its number, respectively. "
    },
    {
      "metadata": {
        "_uuid": "13891f1c68262503afc1830ff923db15dba4f1f2",
        "collapsed": true,
        "_cell_guid": "28fc2b52-9484-66d2-6032-9a58172ee9ab",
        "trusted": true
      },
      "cell_type": "code",
      "source": "def cabin(train, test):\n    for i in [train, test]:\n        i['Cabin_Letter'] = i['Cabin'].apply(lambda x: str(x)[0])\n        del i['Cabin']\n    return train, test",
      "execution_count": 47,
      "outputs": []
    },
    {
      "metadata": {
        "_uuid": "a9d72cbb615c84665d6b69ce4c176731aa66339f",
        "collapsed": true,
        "_cell_guid": "ebf50fb2-9cc7-3ace-a03a-8f7d419583a9",
        "trusted": true
      },
      "cell_type": "code",
      "source": "def cabin_num(train, test):\n    for i in [train, test]:\n        i['Cabin_num1'] = i['Cabin'].apply(lambda x: str(x).split(' ')[-1][1:])\n        i['Cabin_num1'].replace('an', np.NaN, inplace = True)\n        i['Cabin_num1'] = i['Cabin_num1'].apply(lambda x: int(x) if not pd.isnull(x) and x != '' else np.NaN)\n        i['Cabin_num'] = pd.qcut(train['Cabin_num1'],3)\n    train = pd.concat((train, pd.get_dummies(train['Cabin_num'], prefix = 'Cabin_num')), axis = 1)\n    test = pd.concat((test, pd.get_dummies(test['Cabin_num'], prefix = 'Cabin_num')), axis = 1)\n    del train['Cabin_num']\n    del test['Cabin_num']\n    del train['Cabin_num1']\n    del test['Cabin_num1']\n    return train, test",
      "execution_count": 48,
      "outputs": []
    },
    {
      "metadata": {
        "_uuid": "26ac75a1514e67afbde051a6ea6fae754e6d2e8a",
        "_cell_guid": "194fdc08-b381-5d25-ab97-575bc257e465"
      },
      "cell_type": "markdown",
      "source": "We fill the null values in the `Embarked` column with the most commonly occuring value, which is 'S.'"
    },
    {
      "metadata": {
        "_uuid": "3a5c407acb318a6a5aafd6bcfb0e7bb2cf53c3dd",
        "collapsed": true,
        "_cell_guid": "025fe0a4-f682-d58b-b5d8-aa1577ffd2ab",
        "trusted": true
      },
      "cell_type": "code",
      "source": "def embarked_impute(train, test):\n    for i in [train, test]:\n        i['Embarked'] = i['Embarked'].fillna('S')\n    return train, test",
      "execution_count": 49,
      "outputs": []
    },
    {
      "metadata": {
        "_uuid": "19bd957cf636325dc3137eaed884946b71b180d5",
        "_cell_guid": "215ae187-47cf-9233-c59c-25c643fef74e"
      },
      "cell_type": "markdown",
      "source": "We also fill in the one missing value of `Fare` in our test set with the mean value of `Fare` from the training set (transformations of test set data must always be fit using training data)."
    },
    {
      "metadata": {
        "_uuid": "bd14fde612b92bb48b5142a595c12eadb44fb826",
        "collapsed": true,
        "_cell_guid": "2df1b2a7-f75c-ffa5-3bdd-636122ccb3f0",
        "trusted": true
      },
      "cell_type": "code",
      "source": "test['Fare'].fillna(train['Fare'].mean(), inplace = True)",
      "execution_count": 50,
      "outputs": []
    },
    {
      "metadata": {
        "_uuid": "25b30551a2a42d5fb1a84253081d126b303295cb",
        "_cell_guid": "594708ed-a233-dbbe-4f70-2d1e342ddad2"
      },
      "cell_type": "markdown",
      "source": "Next, because we are using scikit-learn, we must convert our categorical columns into dummy variables. The following function does this, and then it drops the original categorical columns. It also makes sure that each category is present in both the training and test datasets."
    },
    {
      "metadata": {
        "_uuid": "f8ab84ceee819e33368e1f32d293f0507094a0df",
        "collapsed": true,
        "_cell_guid": "a0cc99a9-1536-ee17-1249-48f4471a9e11",
        "trusted": true
      },
      "cell_type": "code",
      "source": "def dummies(train, test, columns = ['Pclass', 'Sex', 'Embarked', 'Ticket_Lett', 'Cabin_Letter', 'Name_Title', 'Fam_Size']):\n    for column in columns:\n        train[column] = train[column].apply(lambda x: str(x))\n        test[column] = test[column].apply(lambda x: str(x))\n        good_cols = [column+'_'+i for i in train[column].unique() if i in test[column].unique()]\n        train = pd.concat((train, pd.get_dummies(train[column], prefix = column)[good_cols]), axis = 1)\n        test = pd.concat((test, pd.get_dummies(test[column], prefix = column)[good_cols]), axis = 1)\n        del train[column]\n        del test[column]\n    return train, test",
      "execution_count": 51,
      "outputs": []
    },
    {
      "metadata": {
        "_uuid": "05fe48128639f2576c43cc3ba9ccaccd22ae0a59",
        "_cell_guid": "c8b9d7eb-3afc-4082-f7b8-80d043c4f830"
      },
      "cell_type": "markdown",
      "source": "Our last helper function drops any columns that haven't already been dropped. In our case, we only need to drop the `PassengerId` column, which we have decided is not useful for our problem (by the way, I've confirmed this with a separate test). Note that dropping the `PassengerId` column here means that we'll have to load it later when creating our submission file."
    },
    {
      "metadata": {
        "_uuid": "cfef65705405d97c0730f06830201c26dde24f9c",
        "collapsed": true,
        "_cell_guid": "9680ae7e-5ae4-7c45-3ae1-0781b5f383eb",
        "trusted": true
      },
      "cell_type": "code",
      "source": "def drop(train, test, bye = ['PassengerId']):\n    for i in [train, test]:\n        for z in bye:\n            del i[z]\n    return train, test",
      "execution_count": 52,
      "outputs": []
    },
    {
      "metadata": {
        "_uuid": "9043df080b856a79d8a07661a369c6ae03bfa12d",
        "_cell_guid": "8d1efbbb-e0dd-f3d4-acd3-ef9eb5c396e2"
      },
      "cell_type": "markdown",
      "source": "Having built our helper functions, we can now execute them in order to build our dataset that will be used in the model:a"
    },
    {
      "metadata": {
        "_uuid": "40ecb9f22b32a59666bc3716e489947c5b8fd9e4",
        "_cell_guid": "d004f91d-1c6b-e281-6e4c-45b44eadbcca",
        "trusted": true
      },
      "cell_type": "code",
      "source": "train = pd.read_csv(os.path.join('../input', 'train.csv'))\ntest = pd.read_csv(os.path.join('../input', 'test.csv'))\ntrain, test = names(train, test)\ntrain, test = age_impute(train, test)\ntrain, test = cabin_num(train, test)\ntrain, test = cabin(train, test)\ntrain, test = embarked_impute(train, test)\ntrain, test = fam_size(train, test)\ntest['Fare'].fillna(train['Fare'].mean(), inplace = True)\ntrain, test = ticket_grouped(train, test)\ntrain, test = dummies(train, test, columns = ['Pclass', 'Sex', 'Embarked', 'Ticket_Lett',\n                                                                     'Cabin_Letter', 'Name_Title', 'Fam_Size'])\ntrain, test = drop(train, test)",
      "execution_count": 60,
      "outputs": [
        {
          "output_type": "stream",
          "text": "<class 'pandas.core.series.Series'>\n<class 'pandas.core.series.Series'>\n",
          "name": "stdout"
        }
      ]
    },
    {
      "metadata": {
        "_uuid": "1f0f35479ced1534fd123fedc1446e1a1744515b",
        "_cell_guid": "35d843bc-3607-f11a-55f9-2828cf5eb91e"
      },
      "cell_type": "markdown",
      "source": "We can see that our final dataset has 45 columns, composed of our target column and 44 predictor variables. Although highly dimensional datasets can result in high variance, I think we should be fine here. "
    },
    {
      "metadata": {
        "_uuid": "9e1037836ea63d2e509d6579030ae0a7fec3a895",
        "_cell_guid": "09391302-b621-4730-7589-7eb017286e7f",
        "trusted": true
      },
      "cell_type": "code",
      "source": "print(len(train.columns))\ntrain['Age'].apply(lambda x: str(x))",
      "execution_count": 64,
      "outputs": [
        {
          "output_type": "stream",
          "text": "45\n",
          "name": "stdout"
        },
        {
          "output_type": "execute_result",
          "execution_count": 64,
          "data": {
            "text/plain": "0                    22.0\n1                    38.0\n2                    26.0\n3                    35.0\n4                    35.0\n5      28.724890829694324\n6                    54.0\n7                     2.0\n8                    27.0\n9                    14.0\n10                    4.0\n11                   58.0\n12                   20.0\n13                   39.0\n14                   14.0\n15                   55.0\n16                    2.0\n17      32.76829268292683\n18                   31.0\n19     33.515151515151516\n20                   35.0\n21                   34.0\n22                   15.0\n23                   28.0\n24                    8.0\n25                   38.0\n26     28.724890829694324\n27                   19.0\n28       16.1231884057971\n29     28.724890829694324\n              ...        \n861                  21.0\n862                  48.0\n863      16.1231884057971\n864                  24.0\n865                  42.0\n866                  27.0\n867                  31.0\n868    28.724890829694324\n869                   4.0\n870                  26.0\n871                  47.0\n872                  33.0\n873                  47.0\n874                  28.0\n875                  15.0\n876                  20.0\n877                  19.0\n878    28.724890829694324\n879                  56.0\n880                  25.0\n881                  33.0\n882                  22.0\n883                  28.0\n884                  25.0\n885                  39.0\n886                  27.0\n887                  19.0\n888      16.1231884057971\n889                  26.0\n890                  32.0\nName: Age, Length: 891, dtype: object"
          },
          "metadata": {}
        }
      ]
    },
    {
      "metadata": {
        "_uuid": "fdc73872e3d879f7f31c75da873e200b80fb7898",
        "_cell_guid": "1066e65e-e578-e896-5c38-1457a947ec6f"
      },
      "cell_type": "markdown",
      "source": "### Hyperparameter Tuning"
    },
    {
      "metadata": {
        "_uuid": "bd304b873c8793a20c3086e4fdf50946bd8258fd",
        "_cell_guid": "32b4e910-cbe5-04c6-4383-c6f02483e595"
      },
      "cell_type": "markdown",
      "source": "We will use grid search to identify the optimal parameters of our random forest model. Because our training dataset is quite small, we can get away with testing a wider range of hyperparameter values. When I ran this on my 8 GB Windows machine, the process took less than ten minutes. I will not run it here for the sake of saving myself time, but I will discuss the results of this grid search."
    },
    {
      "metadata": {
        "_uuid": "f676b87fdc8fcd46d2c56eacef547e2df9e9411c",
        "_cell_guid": "7f6c54fa-033e-075f-0e86-c9c0b469a03b"
      },
      "cell_type": "markdown",
      "source": "from sklearn.model_selection import GridSearchCV  \nfrom sklearn.ensemble import RandomForestClassifier\n\nrf = RandomForestClassifier(max_features='auto',\n                                oob_score=True,\n                                random_state=1,\n                                n_jobs=-1)\n\nparam_grid = { \"criterion\"   : [\"gini\", \"entropy\"],\n             \"min_samples_leaf\" : [1, 5, 10],\n             \"min_samples_split\" : [2, 4, 10, 12, 16],\n             \"n_estimators\": [50, 100, 400, 700, 1000]}\n\ngs = GridSearchCV(estimator=rf,\n                  param_grid=param_grid,\n                  scoring='accuracy',\n                  cv=3,\n                  n_jobs=-1)\n\ngs = gs.fit(train.iloc[:, 1:], train.iloc[:, 0])\n\nprint(gs.best_score_)   \nprint(gs.best_params_)  \nprint(gs.cv_results_)"
    },
    {
      "metadata": {
        "_uuid": "6c267a7d8c2c40cfe32970b9ba0ad1ac2dd494f6",
        "_cell_guid": "11038f38-44d4-0cbd-328b-1ad7196819fe"
      },
      "cell_type": "markdown",
      "source": "Looking at the results of the grid search:  \n\n0.838383838384  \n{'min_samples_split': 10, 'n_estimators': 700, 'criterion': 'gini', 'min_samples_leaf': 1}  \n\n...we can see that our optimal parameter settings are not at the endpoints of our provided values, meaning that we do not have to test more values. What else can we say about our optimal values? The `min_samples_split` parameter is at 10, which should help mitigate overfitting to a certain degree. This is especially good because we have a relatively large number of estimators (700), which could potentially increase our generalization error."
    },
    {
      "metadata": {
        "_uuid": "f96c066c2ba6397bad5d85308b6b917783544a4f",
        "_cell_guid": "c95a0ff7-0f68-7e28-0c9c-36a52808f578"
      },
      "cell_type": "markdown",
      "source": "### Model Estimation and Evaluation<a name=\"model\"></a>"
    },
    {
      "metadata": {
        "_uuid": "dc4c84dfb3d2420b361f1d39a38f3d7b3cb2acce",
        "_cell_guid": "e494ad2b-92e3-782f-13c1-f53a86602298"
      },
      "cell_type": "markdown",
      "source": "We are now ready to fit our model using the optimal hyperparameters. The out-of-bag score can give us an unbiased estimate of the model accuracy, and we can see that the score is 82.94%, which is only a little higher than our final leaderboard score."
    },
    {
      "metadata": {
        "_uuid": "5103c4715b4b71b5ddb62317c51ad24cddaa8ee4",
        "_cell_guid": "5593980a-4145-9594-299c-f4d1a9f01970",
        "trusted": true
      },
      "cell_type": "code",
      "source": "from sklearn.ensemble import RandomForestClassifier\n\nrf = RandomForestClassifier(criterion='gini', \n                             n_estimators=700,\n                             min_samples_split=10,\n                             min_samples_leaf=1,\n                             max_features='auto',\n                             oob_score=True,\n                             random_state=1,\n                             n_jobs=-1)\nrf.fit(train.iloc[:, 1:], train.iloc[:, 0])\nprint(\"%.4f\" % rf.oob_score_)",
      "execution_count": 55,
      "outputs": [
        {
          "output_type": "stream",
          "text": "0.8294\n",
          "name": "stdout"
        }
      ]
    },
    {
      "metadata": {
        "_uuid": "d9ed915d8317802595d3662ad36ffa1e88e06148",
        "_cell_guid": "4b44766d-6974-b7f3-b801-eb5d9423ae49"
      },
      "cell_type": "markdown",
      "source": "Let's take a brief look at our variable importance according to our random forest model. We can see that some of the original columns we predicted would be important in fact were, including gender, fare, and age. But we also see title, name length, and ticket length feature prominently, so we can pat ourselves on the back for creating such useful variables."
    },
    {
      "metadata": {
        "_uuid": "451356c4b0a6090e418b7b571195a0fd449d8bf6",
        "_cell_guid": "d77e221b-352d-8669-05d9-f7defce05709",
        "trusted": true
      },
      "cell_type": "code",
      "source": "pd.concat((pd.DataFrame(train.iloc[:, 1:].columns, columns = ['variable']), \n           pd.DataFrame(rf.feature_importances_, columns = ['importance'])), \n          axis = 1).sort_values(by='importance', ascending = False)[:20]",
      "execution_count": 56,
      "outputs": [
        {
          "output_type": "execute_result",
          "execution_count": 56,
          "data": {
            "text/plain": "                  variable  importance\n12              Sex_female    0.111215\n11                Sex_male    0.109769\n33          Name_Title_Mr.    0.109746\n1                     Fare    0.088209\n2                 Name_Len    0.087904\n0                      Age    0.078651\n8                 Pclass_3    0.043268\n35        Name_Title_Miss.    0.031292\n7               Ticket_Len    0.031079\n34         Name_Title_Mrs.    0.028852\n25          Cabin_Letter_n    0.027893\n43            Fam_Size_Big    0.025199\n41        Fam_Size_Nuclear    0.022704\n9                 Pclass_1    0.021810\n19           Ticket_Lett_1    0.017999\n20           Ticket_Lett_3    0.012902\n10                Pclass_2    0.012345\n36      Name_Title_Master.    0.012098\n23  Ticket_Lett_Low_ticket    0.011723\n13              Embarked_S    0.011546",
            "text/html": "<div>\n<style scoped>\n    .dataframe tbody tr th:only-of-type {\n        vertical-align: middle;\n    }\n\n    .dataframe tbody tr th {\n        vertical-align: top;\n    }\n\n    .dataframe thead th {\n        text-align: right;\n    }\n</style>\n<table border=\"1\" class=\"dataframe\">\n  <thead>\n    <tr style=\"text-align: right;\">\n      <th></th>\n      <th>variable</th>\n      <th>importance</th>\n    </tr>\n  </thead>\n  <tbody>\n    <tr>\n      <th>12</th>\n      <td>Sex_female</td>\n      <td>0.111215</td>\n    </tr>\n    <tr>\n      <th>11</th>\n      <td>Sex_male</td>\n      <td>0.109769</td>\n    </tr>\n    <tr>\n      <th>33</th>\n      <td>Name_Title_Mr.</td>\n      <td>0.109746</td>\n    </tr>\n    <tr>\n      <th>1</th>\n      <td>Fare</td>\n      <td>0.088209</td>\n    </tr>\n    <tr>\n      <th>2</th>\n      <td>Name_Len</td>\n      <td>0.087904</td>\n    </tr>\n    <tr>\n      <th>0</th>\n      <td>Age</td>\n      <td>0.078651</td>\n    </tr>\n    <tr>\n      <th>8</th>\n      <td>Pclass_3</td>\n      <td>0.043268</td>\n    </tr>\n    <tr>\n      <th>35</th>\n      <td>Name_Title_Miss.</td>\n      <td>0.031292</td>\n    </tr>\n    <tr>\n      <th>7</th>\n      <td>Ticket_Len</td>\n      <td>0.031079</td>\n    </tr>\n    <tr>\n      <th>34</th>\n      <td>Name_Title_Mrs.</td>\n      <td>0.028852</td>\n    </tr>\n    <tr>\n      <th>25</th>\n      <td>Cabin_Letter_n</td>\n      <td>0.027893</td>\n    </tr>\n    <tr>\n      <th>43</th>\n      <td>Fam_Size_Big</td>\n      <td>0.025199</td>\n    </tr>\n    <tr>\n      <th>41</th>\n      <td>Fam_Size_Nuclear</td>\n      <td>0.022704</td>\n    </tr>\n    <tr>\n      <th>9</th>\n      <td>Pclass_1</td>\n      <td>0.021810</td>\n    </tr>\n    <tr>\n      <th>19</th>\n      <td>Ticket_Lett_1</td>\n      <td>0.017999</td>\n    </tr>\n    <tr>\n      <th>20</th>\n      <td>Ticket_Lett_3</td>\n      <td>0.012902</td>\n    </tr>\n    <tr>\n      <th>10</th>\n      <td>Pclass_2</td>\n      <td>0.012345</td>\n    </tr>\n    <tr>\n      <th>36</th>\n      <td>Name_Title_Master.</td>\n      <td>0.012098</td>\n    </tr>\n    <tr>\n      <th>23</th>\n      <td>Ticket_Lett_Low_ticket</td>\n      <td>0.011723</td>\n    </tr>\n    <tr>\n      <th>13</th>\n      <td>Embarked_S</td>\n      <td>0.011546</td>\n    </tr>\n  </tbody>\n</table>\n</div>"
          },
          "metadata": {}
        }
      ]
    },
    {
      "metadata": {
        "_uuid": "89a6acd6bc7ead245df8fbec54bc96f7fc941b2e",
        "_cell_guid": "f4fbf72d-a7b6-1d14-73cb-7f763d291272"
      },
      "cell_type": "markdown",
      "source": "Our last step is to predict the target variable for our test data and generate an output file that will be submitted to Kaggle. "
    },
    {
      "metadata": {
        "_uuid": "4f01e53690168b4cb69b9a88b490087d3a9e8e72",
        "collapsed": true,
        "_cell_guid": "14dc0e66-9fc4-86bf-8927-46d366d4bbcf",
        "trusted": true
      },
      "cell_type": "code",
      "source": "predictions = rf.predict(test)\npredictions = pd.DataFrame(predictions, columns=['Survived'])\ntest = pd.read_csv(os.path.join('../input', 'test.csv'))\npredictions = pd.concat((test.iloc[:, 0], predictions), axis = 1)\npredictions.to_csv('y_test15.csv', sep=\",\", index = False)",
      "execution_count": 57,
      "outputs": []
    },
    {
      "metadata": {
        "_uuid": "a584f28b3d6dea08fe94fb0d25ebdc3990a4ad48",
        "_cell_guid": "ae3dcb9e-8e70-956a-a0eb-a5aa1f188a99"
      },
      "cell_type": "markdown",
      "source": "## Conclusion\n\nThis exercise is a good example of how far basic feature engineering can take you. It is worth mentioning that I did try various other models before arriving at this one. Some of the other variations I tried were different groupings for the categorical variables (plenty more combinations remain), linear discriminant analysis on a couple numeric columns, and eliminating more variables, among other things. This is a competition with a generous allotment of submission attempts, and as a result, it's quite possible that even the leaderboard score is an overestimation of the true quality of the model, since the leaderboard can act as more of a validation score instead of a true test score. \n\nI welcome any comments and suggestions."
    }
  ],
  "metadata": {
    "_is_fork": false,
    "kernelspec": {
      "display_name": "Python 3",
      "language": "python",
      "name": "python3"
    },
    "language_info": {
      "name": "python",
      "version": "3.6.5",
      "mimetype": "text/x-python",
      "codemirror_mode": {
        "name": "ipython",
        "version": 3
      },
      "pygments_lexer": "ipython3",
      "nbconvert_exporter": "python",
      "file_extension": ".py"
    },
    "_change_revision": 0
  },
  "nbformat": 4,
  "nbformat_minor": 1
}