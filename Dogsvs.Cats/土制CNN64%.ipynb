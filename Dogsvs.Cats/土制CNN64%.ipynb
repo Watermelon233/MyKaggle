{
 "cells": [
  {
   "cell_type": "code",
   "execution_count": 2,
   "metadata": {
    "collapsed": true
   },
   "outputs": [],
   "source": [
    "import os  \n",
    "import shutil  \n",
    "import torch  \n",
    "import collections  \n",
    "from torchvision import transforms,datasets  \n",
    "from __future__ import print_function, division  \n",
    "import os  \n",
    "import torch  \n",
    "import pylab  \n",
    "import pandas as pd  \n",
    "import torch.nn as nn  \n",
    "import torch.nn.functional as F  \n",
    "\n",
    "from torch.autograd import Variable  \n",
    "from skimage import io, transform  \n",
    "import numpy as np  \n",
    "import matplotlib.pyplot as plt  \n",
    "from torch.utils.data import Dataset, DataLoader  \n",
    "from torchvision import transforms, utils  \n",
    "import math  \n",
    "from PIL import Image \n",
    "\n",
    "# Ignore warnings  \n",
    "import warnings  \n",
    "warnings.filterwarnings(\"ignore\")  \n",
    "  \n",
    "plt.ion()   # interactive mode  "
   ]
  },
  {
   "cell_type": "code",
   "execution_count": 7,
   "metadata": {
    "collapsed": true
   },
   "outputs": [],
   "source": [
    "data_transform = transforms.Compose([  \n",
    "    transforms.Resize(84),  \n",
    "    transforms.CenterCrop(84),  \n",
    "    transforms.ToTensor(),  \n",
    "    transforms.Normalize(mean = [0.5,0.5,0.5],std = [0.5,0.5,0.5])  \n",
    "])  \n",
    "  \n",
    "train_dataset = datasets.ImageFolder(root='train/',transform = data_transform)  \n",
    "train_loader = torch.utils.data.DataLoader(train_dataset,batch_size = 20,shuffle = True,num_workers = 4)  \n",
    "  \n",
    "test_dataset = datasets.ImageFolder(root='valid/',transform = data_transform)  \n",
    "test_loader = torch.utils.data.DataLoader(test_dataset,batch_size = 20,shuffle = True,num_workers = 4) "
   ]
  },
  {
   "cell_type": "code",
   "execution_count": 8,
   "metadata": {
    "collapsed": true
   },
   "outputs": [],
   "source": [
    "class Net(nn.Module):  \n",
    "    def __init__(self):  \n",
    "        super(Net,self).__init__()  \n",
    "          \n",
    "        self.conv1 = nn.Conv2d(3,6,5)  \n",
    "        self.pool = nn.MaxPool2d(2,2)  \n",
    "        self.conv2 = nn.Conv2d(6,16,5)  \n",
    "        self.fc1 = nn.Linear(16 * 18 * 18,800)  \n",
    "        self.fc2 = nn.Linear(800,120)  \n",
    "        self.fc3 = nn.Linear(120,2)  \n",
    "          \n",
    "    def forward(self,x):  \n",
    "        x = self.pool(F.relu(self.conv1(x)))  \n",
    "        x = self.pool(F.relu(self.conv2(x)))  \n",
    "        x = x.view(-1,16 * 18 * 18)  \n",
    "        x = F.relu(self.fc1(x))  \n",
    "        x = F.relu(self.fc2(x))  \n",
    "        x = self.fc3(x)  \n",
    "          \n",
    "        return x  \n",
    "  \n"
   ]
  },
  {
   "cell_type": "code",
   "execution_count": 9,
   "metadata": {
    "scrolled": true
   },
   "outputs": [
    {
     "name": "stdout",
     "output_type": "stream",
     "text": [
      "[1   500] loss: 0.173, Time:\n",
      "2018-04-12 18:25:50\n",
      "[1  1000] loss: 0.173, Time:\n",
      "2018-04-12 18:27:00\n",
      "[2   500] loss: 0.173, Time:\n",
      "2018-04-12 18:28:16\n",
      "[2  1000] loss: 0.173, Time:\n",
      "2018-04-12 18:29:31\n",
      "[3   500] loss: 0.173, Time:\n",
      "2018-04-12 18:30:43\n",
      "[3  1000] loss: 0.173, Time:\n",
      "2018-04-12 18:31:55\n",
      "finished training!\n"
     ]
    }
   ],
   "source": [
    "import torch.optim as optim  \n",
    "import datetime\n",
    "\n",
    "net = Net()   \n",
    "cirterion = nn.CrossEntropyLoss()  \n",
    "optimizer = optim.SGD(net.parameters(),lr = 0.0001,momentum = 0.9)  \n",
    "  \n",
    "for epoch in range(3):  \n",
    "    running_loss = 0.0  \n",
    "      \n",
    "    for i,data in enumerate(train_loader):  \n",
    "        inputs,labels = data  \n",
    "        inputs,labels = Variable(inputs),Variable(labels)  \n",
    "        optimizer.zero_grad()  \n",
    "        outputs = net(inputs)  \n",
    "        loss = cirterion(outputs,labels)  \n",
    "        loss.backward()  \n",
    "        optimizer.step()  \n",
    "          \n",
    "        running_loss += loss.data[0]  \n",
    "          \n",
    "        if i % 500 == 499:  \n",
    "            nowTime=datetime.datetime.now().strftime('%Y-%m-%d %H:%M:%S')#现在\n",
    "            print('[%d %5d] loss: %.3f, Time:' % (epoch + 1,i + 1,running_loss / 2000)) \n",
    "            print(nowTime)\n",
    "            running_loss = 0.0  \n",
    "  \n",
    "print('finished training!')  "
   ]
  },
  {
   "cell_type": "code",
   "execution_count": 10,
   "metadata": {},
   "outputs": [
    {
     "name": "stdout",
     "output_type": "stream",
     "text": [
      "Accuracy of the network on the 5000 test images: 55 %\n"
     ]
    }
   ],
   "source": [
    "correct = 0  \n",
    "total = 0  \n",
    "  \n",
    "for data in test_loader:  \n",
    "    images,labels = data  \n",
    "    outputs = net(Variable(images))  \n",
    "    _,predicted = torch.max(outputs.data,1)  \n",
    "    total += labels.size(0)  \n",
    "    correct += (predicted == labels).sum()  \n",
    "  \n",
    "\n",
    "print('Accuracy of the network on the 5000 test images: %d %%' % (100 * correct / total))  "
   ]
  },
  {
   "cell_type": "code",
   "execution_count": null,
   "metadata": {
    "collapsed": true
   },
   "outputs": [],
   "source": []
  }
 ],
 "metadata": {
  "kernelspec": {
   "display_name": "Python 3",
   "language": "python",
   "name": "python3"
  },
  "language_info": {
   "codemirror_mode": {
    "name": "ipython",
    "version": 3
   },
   "file_extension": ".py",
   "mimetype": "text/x-python",
   "name": "python",
   "nbconvert_exporter": "python",
   "pygments_lexer": "ipython3",
   "version": "3.6.3"
  }
 },
 "nbformat": 4,
 "nbformat_minor": 2
}
